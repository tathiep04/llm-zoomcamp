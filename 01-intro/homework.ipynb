{
 "cells": [
  {
   "cell_type": "code",
   "execution_count": 1,
   "id": "041da386-0122-4dd7-988d-16db52ec8720",
   "metadata": {},
   "outputs": [],
   "source": [
    "import openai"
   ]
  },
  {
   "cell_type": "code",
   "execution_count": 2,
   "id": "b1f83085-4345-4b5e-bfa5-0e36fac3b5e8",
   "metadata": {},
   "outputs": [],
   "source": [
    "from openai import OpenAI"
   ]
  },
  {
   "cell_type": "code",
   "execution_count": 3,
   "id": "0b835f7b-d77b-4671-85fc-8a2f04628143",
   "metadata": {},
   "outputs": [],
   "source": [
    "import os"
   ]
  },
  {
   "cell_type": "code",
   "execution_count": 4,
   "id": "80917025-5a53-4326-84e1-bc1859daae1e",
   "metadata": {},
   "outputs": [],
   "source": [
    "api_key = os.getenv(\"OPENAI_API_KEY\")"
   ]
  },
  {
   "cell_type": "code",
   "execution_count": 6,
   "id": "c678d7f2-51d1-433f-b880-87a6116d7a90",
   "metadata": {},
   "outputs": [],
   "source": [
    "# os.environ\n",
    "client = OpenAI(api_key=api_key)"
   ]
  },
  {
   "cell_type": "code",
   "execution_count": 7,
   "id": "4efaddb2-da93-44e5-8537-83a2a085f2dc",
   "metadata": {},
   "outputs": [],
   "source": [
    "response = client.chat.completions.create(\n",
    "    model='gpt-3.5-turbo',\n",
    "    messages=[{\"role\":\"user\", \"content\":\"How to make a great content marketing? Write it from 3 to 6 bullet points in Vietnamese\"}]\n",
    ")"
   ]
  },
  {
   "cell_type": "code",
   "execution_count": 8,
   "id": "962e7c6f-24fb-4f02-93f8-ce06c0125acc",
   "metadata": {},
   "outputs": [
    {
     "data": {
      "text/plain": [
       "'- Xác định mục tiêu và đối tượng người đọc của nội dung\\n- Tạo nội dung chất lượng, phân tích từ khóa để tối ưu SEO\\n- Kết hợp các hình ảnh, video và đồ họa sinh động\\n- Chia sẻ nội dung trên các kênh truyền thông xã hội và website của doanh nghiệp\\n- Đo lường và phân tích hiệu quả của chiến dịch content marketing và điều chỉnh nội dung theo đó.'"
      ]
     },
     "execution_count": 8,
     "metadata": {},
     "output_type": "execute_result"
    }
   ],
   "source": [
    "response.choices[0].message.content"
   ]
  },
  {
   "cell_type": "code",
   "execution_count": null,
   "id": "adc235d3-8049-4a87-9e2b-6bac8cf00034",
   "metadata": {},
   "outputs": [],
   "source": []
  }
 ],
 "metadata": {
  "kernelspec": {
   "display_name": "Python 3 (ipykernel)",
   "language": "python",
   "name": "python3"
  },
  "language_info": {
   "codemirror_mode": {
    "name": "ipython",
    "version": 3
   },
   "file_extension": ".py",
   "mimetype": "text/x-python",
   "name": "python",
   "nbconvert_exporter": "python",
   "pygments_lexer": "ipython3",
   "version": "3.12.1"
  }
 },
 "nbformat": 4,
 "nbformat_minor": 5
}
